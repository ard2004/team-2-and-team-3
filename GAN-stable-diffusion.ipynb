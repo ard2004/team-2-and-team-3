{
 "cells": [
  {
   "cell_type": "code",
   "execution_count": 2,
   "id": "2bfe240a-08e9-41e3-a2aa-b6a23db72860",
   "metadata": {},
   "outputs": [
    {
     "name": "stdout",
     "output_type": "stream",
     "text": [
      "\u001b[31mERROR: Could not find a version that satisfies the requirement tensorflow==2.15.0 (from versions: 2.16.0rc0, 2.16.1, 2.16.2, 2.17.0rc0, 2.17.0rc1, 2.17.0, 2.18.0rc0)\u001b[0m\u001b[31m\n",
      "\u001b[0m\u001b[31mERROR: No matching distribution found for tensorflow==2.15.0\u001b[0m\u001b[31m\n",
      "\u001b[0m"
     ]
    }
   ],
   "source": [
    "!pip install tensorflow==2.15.0 keras==2.15.0 keras-cv==0.6.0 tensorflow-datasets==4.9.6 keras-core==0.1.7"
   ]
  },
  {
   "cell_type": "code",
   "execution_count": null,
   "id": "acf4435a-0bd1-4690-886f-86a4ccfde4fa",
   "metadata": {},
   "outputs": [],
   "source": [
    "import time\n",
    "import keras_cv\n",
    "import keras\n",
    "import matplotlib.pyplot as plt"
   ]
  },
  {
   "cell_type": "code",
   "execution_count": null,
   "id": "6b8da117-e485-4180-b08b-3ead77d73602",
   "metadata": {},
   "outputs": [],
   "source": [
    "model = keras_cv.models.StableDiffusion(\n",
    "    img_width=512, img_height=512, jit_compile=False\n",
    ")"
   ]
  },
  {
   "cell_type": "code",
   "execution_count": null,
   "id": "0b11003f-e5bc-4320-8547-c8005546d690",
   "metadata": {},
   "outputs": [],
   "source": [
    "keras.mixed_precision.set_global_policy(\"mixed_float16\")"
   ]
  },
  {
   "cell_type": "code",
   "execution_count": 1,
   "id": "22ecaf2e-b94a-4ca4-9fff-4f36d90ff542",
   "metadata": {},
   "outputs": [
    {
     "ename": "NameError",
     "evalue": "name 'model' is not defined",
     "output_type": "error",
     "traceback": [
      "\u001b[0;31m---------------------------------------------------------------------------\u001b[0m",
      "\u001b[0;31mNameError\u001b[0m                                 Traceback (most recent call last)",
      "Cell \u001b[0;32mIn[1], line 2\u001b[0m\n\u001b[1;32m      1\u001b[0m \u001b[38;5;66;03m# Warm up model to run graph tracing before benchmarking.\u001b[39;00m\n\u001b[0;32m----> 2\u001b[0m \u001b[43mmodel\u001b[49m\u001b[38;5;241m.\u001b[39mtext_to_image(\u001b[38;5;124m\"\u001b[39m\u001b[38;5;124mwarming up the model\u001b[39m\u001b[38;5;124m\"\u001b[39m, batch_size\u001b[38;5;241m=\u001b[39m\u001b[38;5;241m3\u001b[39m)\n\u001b[1;32m      4\u001b[0m start \u001b[38;5;241m=\u001b[39m time\u001b[38;5;241m.\u001b[39mtime()\n\u001b[1;32m      5\u001b[0m images \u001b[38;5;241m=\u001b[39m model\u001b[38;5;241m.\u001b[39mtext_to_image(\n\u001b[1;32m      6\u001b[0m     \u001b[38;5;124m\"\u001b[39m\u001b[38;5;124ma cute magical flying dog, fantasy art, \u001b[39m\u001b[38;5;124m\"\u001b[39m,\n\u001b[1;32m      7\u001b[0m     batch_size\u001b[38;5;241m=\u001b[39m\u001b[38;5;241m1\u001b[39m,\n\u001b[1;32m      8\u001b[0m )\n",
      "\u001b[0;31mNameError\u001b[0m: name 'model' is not defined"
     ]
    }
   ],
   "source": [
    "# Warm up model to run graph tracing before benchmarking.\n",
    "model.text_to_image(\"warming up the model\", batch_size=3)\n",
    "\n",
    "start = time.time()\n",
    "images = model.text_to_image(\n",
    "    \"a cute magical flying dog, fantasy art, \",\n",
    "    batch_size=1,\n",
    ")\n",
    "end = time.time()\n",
    "benchmark_result.append([\"Mixed Precision\", end - start])\n",
    "plot_images(images)\n",
    "\n",
    "print(f\"Mixed precision model: {(end - start):.2f} seconds\")\n",
    "keras.backend.clear_session()"
   ]
  },
  {
   "cell_type": "code",
   "execution_count": null,
   "id": "3d2fc3db-aeb5-4092-b1e4-2f97c69eb59e",
   "metadata": {},
   "outputs": [],
   "source": []
  }
 ],
 "metadata": {
  "kernelspec": {
   "display_name": "Python 3 (ipykernel)",
   "language": "python",
   "name": "python3"
  },
  "language_info": {
   "codemirror_mode": {
    "name": "ipython",
    "version": 3
   },
   "file_extension": ".py",
   "mimetype": "text/x-python",
   "name": "python",
   "nbconvert_exporter": "python",
   "pygments_lexer": "ipython3",
   "version": "3.12.6"
  }
 },
 "nbformat": 4,
 "nbformat_minor": 5
}
